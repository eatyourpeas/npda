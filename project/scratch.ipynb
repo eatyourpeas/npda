{
 "cells": [
  {
   "cell_type": "code",
   "execution_count": 72,
   "metadata": {},
   "outputs": [
    {
     "data": {
      "application/vnd.plotly.v1+json": {
       "config": {
        "plotlyServerURL": "https://plot.ly"
       },
       "data": [
        {
         "hovertemplate": "<b>%{label}</b><br>N=%{value} (%{percentRoot:.0%})<br><extra></extra>",
         "labels": [
          "Mixed",
          "Black",
          "Other",
          "White",
          "Asian",
          "Any other mixed background",
          "Caribbean",
          "Mixed (White and Black African)",
          "Any other Asian background",
          "Any other Black background",
          "Mixed (White and Asian)",
          "Indian or British Indian",
          "Any other ethnic group",
          "Not Stated",
          "Pakistani or British Pakistani",
          "African",
          "British, Mixed British",
          "Bangladeshi or British Bangladeshi",
          "Mixed (White and Black Caribbean)",
          "Irish",
          "Chinese",
          "Not known",
          "Any other White background"
         ],
         "marker": {
          "colors": [
           "#FFD200",
           "#B3B3B3",
           "#0D0D58",
           "#11A7F2",
           "#E00087",
           "#FFD200",
           "#B3B3B3",
           "#FFD200",
           "#E00087",
           "#B3B3B3",
           "#FFD200",
           "#E00087",
           "#0D0D58",
           "#0D0D58",
           "#E00087",
           "#B3B3B3",
           "#11A7F2",
           "#E00087",
           "#FFD200",
           "#11A7F2",
           "#E00087",
           "#0D0D58",
           "#11A7F2"
          ]
         },
         "parents": [
          "ALL",
          "ALL",
          "ALL",
          "ALL",
          "ALL",
          "Mixed",
          "Black",
          "Mixed",
          "Asian",
          "Black",
          "Mixed",
          "Asian",
          "Other",
          "Other",
          "Asian",
          "Black",
          "White",
          "Asian",
          "Mixed",
          "White",
          "Asian",
          "Other",
          "White"
         ],
         "textinfo": "label+percent root",
         "type": "treemap",
         "values": [
          100,
          44,
          32,
          24,
          19,
          46,
          13,
          13,
          13,
          12,
          11,
          11,
          11,
          10,
          10,
          9,
          8,
          8,
          8,
          7,
          7,
          6,
          4,
          4
         ]
        }
       ],
       "layout": {
        "margin": {
         "b": 25,
         "l": 25,
         "r": 25,
         "t": 50
        },
        "template": {
         "data": {
          "bar": [
           {
            "error_x": {
             "color": "#2a3f5f"
            },
            "error_y": {
             "color": "#2a3f5f"
            },
            "marker": {
             "line": {
              "color": "#E5ECF6",
              "width": 0.5
             },
             "pattern": {
              "fillmode": "overlay",
              "size": 10,
              "solidity": 0.2
             }
            },
            "type": "bar"
           }
          ],
          "barpolar": [
           {
            "marker": {
             "line": {
              "color": "#E5ECF6",
              "width": 0.5
             },
             "pattern": {
              "fillmode": "overlay",
              "size": 10,
              "solidity": 0.2
             }
            },
            "type": "barpolar"
           }
          ],
          "carpet": [
           {
            "aaxis": {
             "endlinecolor": "#2a3f5f",
             "gridcolor": "white",
             "linecolor": "white",
             "minorgridcolor": "white",
             "startlinecolor": "#2a3f5f"
            },
            "baxis": {
             "endlinecolor": "#2a3f5f",
             "gridcolor": "white",
             "linecolor": "white",
             "minorgridcolor": "white",
             "startlinecolor": "#2a3f5f"
            },
            "type": "carpet"
           }
          ],
          "choropleth": [
           {
            "colorbar": {
             "outlinewidth": 0,
             "ticks": ""
            },
            "type": "choropleth"
           }
          ],
          "contour": [
           {
            "colorbar": {
             "outlinewidth": 0,
             "ticks": ""
            },
            "colorscale": [
             [
              0,
              "#0d0887"
             ],
             [
              0.1111111111111111,
              "#46039f"
             ],
             [
              0.2222222222222222,
              "#7201a8"
             ],
             [
              0.3333333333333333,
              "#9c179e"
             ],
             [
              0.4444444444444444,
              "#bd3786"
             ],
             [
              0.5555555555555556,
              "#d8576b"
             ],
             [
              0.6666666666666666,
              "#ed7953"
             ],
             [
              0.7777777777777778,
              "#fb9f3a"
             ],
             [
              0.8888888888888888,
              "#fdca26"
             ],
             [
              1,
              "#f0f921"
             ]
            ],
            "type": "contour"
           }
          ],
          "contourcarpet": [
           {
            "colorbar": {
             "outlinewidth": 0,
             "ticks": ""
            },
            "type": "contourcarpet"
           }
          ],
          "heatmap": [
           {
            "colorbar": {
             "outlinewidth": 0,
             "ticks": ""
            },
            "colorscale": [
             [
              0,
              "#0d0887"
             ],
             [
              0.1111111111111111,
              "#46039f"
             ],
             [
              0.2222222222222222,
              "#7201a8"
             ],
             [
              0.3333333333333333,
              "#9c179e"
             ],
             [
              0.4444444444444444,
              "#bd3786"
             ],
             [
              0.5555555555555556,
              "#d8576b"
             ],
             [
              0.6666666666666666,
              "#ed7953"
             ],
             [
              0.7777777777777778,
              "#fb9f3a"
             ],
             [
              0.8888888888888888,
              "#fdca26"
             ],
             [
              1,
              "#f0f921"
             ]
            ],
            "type": "heatmap"
           }
          ],
          "heatmapgl": [
           {
            "colorbar": {
             "outlinewidth": 0,
             "ticks": ""
            },
            "colorscale": [
             [
              0,
              "#0d0887"
             ],
             [
              0.1111111111111111,
              "#46039f"
             ],
             [
              0.2222222222222222,
              "#7201a8"
             ],
             [
              0.3333333333333333,
              "#9c179e"
             ],
             [
              0.4444444444444444,
              "#bd3786"
             ],
             [
              0.5555555555555556,
              "#d8576b"
             ],
             [
              0.6666666666666666,
              "#ed7953"
             ],
             [
              0.7777777777777778,
              "#fb9f3a"
             ],
             [
              0.8888888888888888,
              "#fdca26"
             ],
             [
              1,
              "#f0f921"
             ]
            ],
            "type": "heatmapgl"
           }
          ],
          "histogram": [
           {
            "marker": {
             "pattern": {
              "fillmode": "overlay",
              "size": 10,
              "solidity": 0.2
             }
            },
            "type": "histogram"
           }
          ],
          "histogram2d": [
           {
            "colorbar": {
             "outlinewidth": 0,
             "ticks": ""
            },
            "colorscale": [
             [
              0,
              "#0d0887"
             ],
             [
              0.1111111111111111,
              "#46039f"
             ],
             [
              0.2222222222222222,
              "#7201a8"
             ],
             [
              0.3333333333333333,
              "#9c179e"
             ],
             [
              0.4444444444444444,
              "#bd3786"
             ],
             [
              0.5555555555555556,
              "#d8576b"
             ],
             [
              0.6666666666666666,
              "#ed7953"
             ],
             [
              0.7777777777777778,
              "#fb9f3a"
             ],
             [
              0.8888888888888888,
              "#fdca26"
             ],
             [
              1,
              "#f0f921"
             ]
            ],
            "type": "histogram2d"
           }
          ],
          "histogram2dcontour": [
           {
            "colorbar": {
             "outlinewidth": 0,
             "ticks": ""
            },
            "colorscale": [
             [
              0,
              "#0d0887"
             ],
             [
              0.1111111111111111,
              "#46039f"
             ],
             [
              0.2222222222222222,
              "#7201a8"
             ],
             [
              0.3333333333333333,
              "#9c179e"
             ],
             [
              0.4444444444444444,
              "#bd3786"
             ],
             [
              0.5555555555555556,
              "#d8576b"
             ],
             [
              0.6666666666666666,
              "#ed7953"
             ],
             [
              0.7777777777777778,
              "#fb9f3a"
             ],
             [
              0.8888888888888888,
              "#fdca26"
             ],
             [
              1,
              "#f0f921"
             ]
            ],
            "type": "histogram2dcontour"
           }
          ],
          "mesh3d": [
           {
            "colorbar": {
             "outlinewidth": 0,
             "ticks": ""
            },
            "type": "mesh3d"
           }
          ],
          "parcoords": [
           {
            "line": {
             "colorbar": {
              "outlinewidth": 0,
              "ticks": ""
             }
            },
            "type": "parcoords"
           }
          ],
          "pie": [
           {
            "automargin": true,
            "type": "pie"
           }
          ],
          "scatter": [
           {
            "fillpattern": {
             "fillmode": "overlay",
             "size": 10,
             "solidity": 0.2
            },
            "type": "scatter"
           }
          ],
          "scatter3d": [
           {
            "line": {
             "colorbar": {
              "outlinewidth": 0,
              "ticks": ""
             }
            },
            "marker": {
             "colorbar": {
              "outlinewidth": 0,
              "ticks": ""
             }
            },
            "type": "scatter3d"
           }
          ],
          "scattercarpet": [
           {
            "marker": {
             "colorbar": {
              "outlinewidth": 0,
              "ticks": ""
             }
            },
            "type": "scattercarpet"
           }
          ],
          "scattergeo": [
           {
            "marker": {
             "colorbar": {
              "outlinewidth": 0,
              "ticks": ""
             }
            },
            "type": "scattergeo"
           }
          ],
          "scattergl": [
           {
            "marker": {
             "colorbar": {
              "outlinewidth": 0,
              "ticks": ""
             }
            },
            "type": "scattergl"
           }
          ],
          "scattermapbox": [
           {
            "marker": {
             "colorbar": {
              "outlinewidth": 0,
              "ticks": ""
             }
            },
            "type": "scattermapbox"
           }
          ],
          "scatterpolar": [
           {
            "marker": {
             "colorbar": {
              "outlinewidth": 0,
              "ticks": ""
             }
            },
            "type": "scatterpolar"
           }
          ],
          "scatterpolargl": [
           {
            "marker": {
             "colorbar": {
              "outlinewidth": 0,
              "ticks": ""
             }
            },
            "type": "scatterpolargl"
           }
          ],
          "scatterternary": [
           {
            "marker": {
             "colorbar": {
              "outlinewidth": 0,
              "ticks": ""
             }
            },
            "type": "scatterternary"
           }
          ],
          "surface": [
           {
            "colorbar": {
             "outlinewidth": 0,
             "ticks": ""
            },
            "colorscale": [
             [
              0,
              "#0d0887"
             ],
             [
              0.1111111111111111,
              "#46039f"
             ],
             [
              0.2222222222222222,
              "#7201a8"
             ],
             [
              0.3333333333333333,
              "#9c179e"
             ],
             [
              0.4444444444444444,
              "#bd3786"
             ],
             [
              0.5555555555555556,
              "#d8576b"
             ],
             [
              0.6666666666666666,
              "#ed7953"
             ],
             [
              0.7777777777777778,
              "#fb9f3a"
             ],
             [
              0.8888888888888888,
              "#fdca26"
             ],
             [
              1,
              "#f0f921"
             ]
            ],
            "type": "surface"
           }
          ],
          "table": [
           {
            "cells": {
             "fill": {
              "color": "#EBF0F8"
             },
             "line": {
              "color": "white"
             }
            },
            "header": {
             "fill": {
              "color": "#C8D4E3"
             },
             "line": {
              "color": "white"
             }
            },
            "type": "table"
           }
          ]
         },
         "layout": {
          "annotationdefaults": {
           "arrowcolor": "#2a3f5f",
           "arrowhead": 0,
           "arrowwidth": 1
          },
          "autotypenumbers": "strict",
          "coloraxis": {
           "colorbar": {
            "outlinewidth": 0,
            "ticks": ""
           }
          },
          "colorscale": {
           "diverging": [
            [
             0,
             "#8e0152"
            ],
            [
             0.1,
             "#c51b7d"
            ],
            [
             0.2,
             "#de77ae"
            ],
            [
             0.3,
             "#f1b6da"
            ],
            [
             0.4,
             "#fde0ef"
            ],
            [
             0.5,
             "#f7f7f7"
            ],
            [
             0.6,
             "#e6f5d0"
            ],
            [
             0.7,
             "#b8e186"
            ],
            [
             0.8,
             "#7fbc41"
            ],
            [
             0.9,
             "#4d9221"
            ],
            [
             1,
             "#276419"
            ]
           ],
           "sequential": [
            [
             0,
             "#0d0887"
            ],
            [
             0.1111111111111111,
             "#46039f"
            ],
            [
             0.2222222222222222,
             "#7201a8"
            ],
            [
             0.3333333333333333,
             "#9c179e"
            ],
            [
             0.4444444444444444,
             "#bd3786"
            ],
            [
             0.5555555555555556,
             "#d8576b"
            ],
            [
             0.6666666666666666,
             "#ed7953"
            ],
            [
             0.7777777777777778,
             "#fb9f3a"
            ],
            [
             0.8888888888888888,
             "#fdca26"
            ],
            [
             1,
             "#f0f921"
            ]
           ],
           "sequentialminus": [
            [
             0,
             "#0d0887"
            ],
            [
             0.1111111111111111,
             "#46039f"
            ],
            [
             0.2222222222222222,
             "#7201a8"
            ],
            [
             0.3333333333333333,
             "#9c179e"
            ],
            [
             0.4444444444444444,
             "#bd3786"
            ],
            [
             0.5555555555555556,
             "#d8576b"
            ],
            [
             0.6666666666666666,
             "#ed7953"
            ],
            [
             0.7777777777777778,
             "#fb9f3a"
            ],
            [
             0.8888888888888888,
             "#fdca26"
            ],
            [
             1,
             "#f0f921"
            ]
           ]
          },
          "colorway": [
           "#636efa",
           "#EF553B",
           "#00cc96",
           "#ab63fa",
           "#FFA15A",
           "#19d3f3",
           "#FF6692",
           "#B6E880",
           "#FF97FF",
           "#FECB52"
          ],
          "font": {
           "color": "#2a3f5f"
          },
          "geo": {
           "bgcolor": "white",
           "lakecolor": "white",
           "landcolor": "#E5ECF6",
           "showlakes": true,
           "showland": true,
           "subunitcolor": "white"
          },
          "hoverlabel": {
           "align": "left"
          },
          "hovermode": "closest",
          "mapbox": {
           "style": "light"
          },
          "paper_bgcolor": "white",
          "plot_bgcolor": "#E5ECF6",
          "polar": {
           "angularaxis": {
            "gridcolor": "white",
            "linecolor": "white",
            "ticks": ""
           },
           "bgcolor": "#E5ECF6",
           "radialaxis": {
            "gridcolor": "white",
            "linecolor": "white",
            "ticks": ""
           }
          },
          "scene": {
           "xaxis": {
            "backgroundcolor": "#E5ECF6",
            "gridcolor": "white",
            "gridwidth": 2,
            "linecolor": "white",
            "showbackground": true,
            "ticks": "",
            "zerolinecolor": "white"
           },
           "yaxis": {
            "backgroundcolor": "#E5ECF6",
            "gridcolor": "white",
            "gridwidth": 2,
            "linecolor": "white",
            "showbackground": true,
            "ticks": "",
            "zerolinecolor": "white"
           },
           "zaxis": {
            "backgroundcolor": "#E5ECF6",
            "gridcolor": "white",
            "gridwidth": 2,
            "linecolor": "white",
            "showbackground": true,
            "ticks": "",
            "zerolinecolor": "white"
           }
          },
          "shapedefaults": {
           "line": {
            "color": "#2a3f5f"
           }
          },
          "ternary": {
           "aaxis": {
            "gridcolor": "white",
            "linecolor": "white",
            "ticks": ""
           },
           "baxis": {
            "gridcolor": "white",
            "linecolor": "white",
            "ticks": ""
           },
           "bgcolor": "#E5ECF6",
           "caxis": {
            "gridcolor": "white",
            "linecolor": "white",
            "ticks": ""
           }
          },
          "title": {
           "x": 0.05
          },
          "xaxis": {
           "automargin": true,
           "gridcolor": "white",
           "linecolor": "white",
           "ticks": "",
           "title": {
            "standoff": 15
           },
           "zerolinecolor": "white",
           "zerolinewidth": 2
          },
          "yaxis": {
           "automargin": true,
           "gridcolor": "white",
           "linecolor": "white",
           "ticks": "",
           "title": {
            "standoff": 15
           },
           "zerolinecolor": "white",
           "zerolinewidth": 2
          }
         }
        },
        "title": {
         "text": "Ethnicity Distribution"
        }
       }
      }
     },
     "metadata": {},
     "output_type": "display_data"
    }
   ],
   "source": [
    "import plotly.graph_objects as go\n",
    "from constants import colors\n",
    "\n",
    "# Define top-level ethnicity categories and their colors\n",
    "parent_colors = {\n",
    "    \"White\": colors.RCPCH_LIGHT_BLUE,\n",
    "    \"Asian\": colors.RCPCH_PINK,\n",
    "    \"Black\": colors.RCPCH_MID_GREY,\n",
    "    \"Mixed\": colors.RCPCH_YELLOW,\n",
    "    \"Other\": colors.RCPCH_DARK_BLUE,\n",
    "}\n",
    "\n",
    "# Define ethnicity mapping to parents\n",
    "ethnicity_parent_map = {\n",
    "    \"Not known\": \"Other\",\n",
    "    \"Any other mixed background\": \"Mixed\",\n",
    "    \"African\": \"Black\",\n",
    "    \"Pakistani or British Pakistani\": \"Asian\",\n",
    "    \"Caribbean\": \"Black\",\n",
    "    \"British, Mixed British\": \"White\",\n",
    "    \"Any other White background\": \"White\",\n",
    "    \"Any other Black background\": \"Black\",\n",
    "    \"Mixed (White and Black Caribbean)\": \"Mixed\",\n",
    "    \"Irish\": \"White\",\n",
    "    \"Any other ethnic group\": \"Other\",\n",
    "    \"Chinese\": \"Asian\",\n",
    "    \"Any other Asian background\": \"Asian\",\n",
    "    \"Mixed (White and Asian)\": \"Mixed\",\n",
    "    \"Indian or British Indian\": \"Asian\",\n",
    "    \"Not Stated\": \"Other\",\n",
    "    \"Mixed (White and Black African)\": \"Mixed\",\n",
    "    \"Bangladeshi or British Bangladeshi\": \"Asian\",\n",
    "}\n",
    "\n",
    "# Ethnicity data with percentage distribution\n",
    "data = {\n",
    "    \"Any other mixed background\": 13,\n",
    "    \"Caribbean\": 13,\n",
    "    \"Mixed (White and Black African)\": 13,\n",
    "    \"Any other Asian background\": 12,\n",
    "    \"Any other Black background\": 11,\n",
    "    \"Mixed (White and Asian)\": 11,\n",
    "    \"Indian or British Indian\": 11,\n",
    "    \"Any other ethnic group\": 10,\n",
    "    \"Not Stated\": 10,\n",
    "    \"Pakistani or British Pakistani\": 9,\n",
    "    \"African\": 8,\n",
    "    \"British, Mixed British\": 8,\n",
    "    \"Bangladeshi or British Bangladeshi\": 8,\n",
    "    \"Mixed (White and Black Caribbean)\": 7,\n",
    "    \"Irish\": 7,\n",
    "    \"Chinese\": 6,\n",
    "    \"Not known\": 4,\n",
    "    \"Any other White background\": 4,\n",
    "}\n",
    "\n",
    "# Extract lists\n",
    "ethnicities = list(data.keys())\n",
    "percentages = list(data.values())\n",
    "parents = [ethnicity_parent_map[ethnicity] for ethnicity in ethnicities]  # Assign parents\n",
    "\n",
    "# Ensure unique parent labels in the treemap\n",
    "parent_labels = list(set(parents))  # Get unique parent categories\n",
    "parent_values = [\n",
    "    sum(data[eth] for eth in ethnicities if ethnicity_parent_map[eth] == parent)\n",
    "    for parent in parent_labels\n",
    "]\n",
    "\n",
    "# Define all labels (parents first, then children)\n",
    "all_labels = parent_labels + ethnicities\n",
    "all_parents = [\"ALL\"] * len(parent_labels) + parents\n",
    "\n",
    "# Define values (parents first, then children)\n",
    "all_values =  [100] + parent_values + percentages\n",
    "\n",
    "# Assign the same color to subcategories as their parent\n",
    "all_colors = {p: parent_colors[p] for p in parent_labels}  # Assign parent colors\n",
    "all_colors.update(\n",
    "    # Apply same color to children\n",
    "    {eth: parent_colors[ethnicity_parent_map[eth]] for eth in ethnicities}\n",
    ")\n",
    "\n",
    "# Create Treemap\n",
    "fig = go.Figure(\n",
    "    go.Treemap(\n",
    "        labels=all_labels,  # Labels including parents\n",
    "        parents=all_parents,  # Hierarchical structure\n",
    "        values=all_values,  # Sizes\n",
    "        textinfo=\"label+percent root\",  # Show labels and percentages\n",
    "        marker=dict(\n",
    "            # Apply parent colors to subcategories\n",
    "            colors=[all_colors[label] for label in all_labels]\n",
    "        ),\n",
    "        hovertemplate=(\n",
    "            \"<b>%{label}</b><br>\"\n",
    "            \"N=%{value} (%{percentRoot:.0%})<br><extra></extra>\"\n",
    "        ),\n",
    "    )\n",
    ")\n",
    "\n",
    "# Customize layout\n",
    "fig.update_layout(\n",
    "    title=\"Ethnicity Distribution\",\n",
    "    margin=dict(t=50, l=25, r=25, b=25),\n",
    ")\n",
    "\n",
    "fig.show()"
   ]
  }
 ],
 "metadata": {
  "kernelspec": {
   "display_name": ".venv",
   "language": "python",
   "name": "python3"
  },
  "language_info": {
   "codemirror_mode": {
    "name": "ipython",
    "version": 3
   },
   "file_extension": ".py",
   "mimetype": "text/x-python",
   "name": "python",
   "nbconvert_exporter": "python",
   "pygments_lexer": "ipython3",
   "version": "3.12.5"
  }
 },
 "nbformat": 4,
 "nbformat_minor": 2
}
